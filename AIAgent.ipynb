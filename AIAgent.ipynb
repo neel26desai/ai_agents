{
  "nbformat": 4,
  "nbformat_minor": 0,
  "metadata": {
    "colab": {
      "provenance": [],
      "authorship_tag": "ABX9TyNFRJyf5y7HCHpqqI09/vt7",
      "include_colab_link": true
    },
    "kernelspec": {
      "name": "python3",
      "display_name": "Python 3"
    },
    "language_info": {
      "name": "python"
    }
  },
  "cells": [
    {
      "cell_type": "markdown",
      "metadata": {
        "id": "view-in-github",
        "colab_type": "text"
      },
      "source": [
        "<a href=\"https://colab.research.google.com/github/neel26desai/ai_agents/blob/main/AIAgent.ipynb\" target=\"_parent\"><img src=\"https://colab.research.google.com/assets/colab-badge.svg\" alt=\"Open In Colab\"/></a>"
      ]
    },
    {
      "cell_type": "code",
      "source": [
        "!pip install openai"
      ],
      "metadata": {
        "colab": {
          "base_uri": "https://localhost:8080/"
        },
        "id": "piprvXhmg-on",
        "outputId": "f35ba3c4-ff7d-4d2a-9bd3-6a0bff15b569"
      },
      "execution_count": null,
      "outputs": [
        {
          "output_type": "stream",
          "name": "stdout",
          "text": [
            "Collecting openai\n",
            "  Downloading openai-1.14.2-py3-none-any.whl (262 kB)\n",
            "\u001b[2K     \u001b[90m━━━━━━━━━━━━━━━━━━━━━━━━━━━━━━━━━━━━━━━━\u001b[0m \u001b[32m262.4/262.4 kB\u001b[0m \u001b[31m1.7 MB/s\u001b[0m eta \u001b[36m0:00:00\u001b[0m\n",
            "\u001b[?25hRequirement already satisfied: anyio<5,>=3.5.0 in /usr/local/lib/python3.10/dist-packages (from openai) (3.7.1)\n",
            "Requirement already satisfied: distro<2,>=1.7.0 in /usr/lib/python3/dist-packages (from openai) (1.7.0)\n",
            "Collecting httpx<1,>=0.23.0 (from openai)\n",
            "  Downloading httpx-0.27.0-py3-none-any.whl (75 kB)\n",
            "\u001b[2K     \u001b[90m━━━━━━━━━━━━━━━━━━━━━━━━━━━━━━━━━━━━━━━━\u001b[0m \u001b[32m75.6/75.6 kB\u001b[0m \u001b[31m1.3 MB/s\u001b[0m eta \u001b[36m0:00:00\u001b[0m\n",
            "\u001b[?25hRequirement already satisfied: pydantic<3,>=1.9.0 in /usr/local/lib/python3.10/dist-packages (from openai) (2.6.4)\n",
            "Requirement already satisfied: sniffio in /usr/local/lib/python3.10/dist-packages (from openai) (1.3.1)\n",
            "Requirement already satisfied: tqdm>4 in /usr/local/lib/python3.10/dist-packages (from openai) (4.66.2)\n",
            "Requirement already satisfied: typing-extensions<5,>=4.7 in /usr/local/lib/python3.10/dist-packages (from openai) (4.10.0)\n",
            "Requirement already satisfied: idna>=2.8 in /usr/local/lib/python3.10/dist-packages (from anyio<5,>=3.5.0->openai) (3.6)\n",
            "Requirement already satisfied: exceptiongroup in /usr/local/lib/python3.10/dist-packages (from anyio<5,>=3.5.0->openai) (1.2.0)\n",
            "Requirement already satisfied: certifi in /usr/local/lib/python3.10/dist-packages (from httpx<1,>=0.23.0->openai) (2024.2.2)\n",
            "Collecting httpcore==1.* (from httpx<1,>=0.23.0->openai)\n",
            "  Downloading httpcore-1.0.4-py3-none-any.whl (77 kB)\n",
            "\u001b[2K     \u001b[90m━━━━━━━━━━━━━━━━━━━━━━━━━━━━━━━━━━━━━━━━\u001b[0m \u001b[32m77.8/77.8 kB\u001b[0m \u001b[31m5.0 MB/s\u001b[0m eta \u001b[36m0:00:00\u001b[0m\n",
            "\u001b[?25hCollecting h11<0.15,>=0.13 (from httpcore==1.*->httpx<1,>=0.23.0->openai)\n",
            "  Downloading h11-0.14.0-py3-none-any.whl (58 kB)\n",
            "\u001b[2K     \u001b[90m━━━━━━━━━━━━━━━━━━━━━━━━━━━━━━━━━━━━━━━━\u001b[0m \u001b[32m58.3/58.3 kB\u001b[0m \u001b[31m3.4 MB/s\u001b[0m eta \u001b[36m0:00:00\u001b[0m\n",
            "\u001b[?25hRequirement already satisfied: annotated-types>=0.4.0 in /usr/local/lib/python3.10/dist-packages (from pydantic<3,>=1.9.0->openai) (0.6.0)\n",
            "Requirement already satisfied: pydantic-core==2.16.3 in /usr/local/lib/python3.10/dist-packages (from pydantic<3,>=1.9.0->openai) (2.16.3)\n",
            "Installing collected packages: h11, httpcore, httpx, openai\n",
            "Successfully installed h11-0.14.0 httpcore-1.0.4 httpx-0.27.0 openai-1.14.2\n"
          ]
        }
      ]
    },
    {
      "cell_type": "code",
      "source": [
        "import openai\n",
        "import re\n",
        "import httpx"
      ],
      "metadata": {
        "id": "jKUImus7hQ-s"
      },
      "execution_count": null,
      "outputs": []
    },
    {
      "cell_type": "code",
      "execution_count": null,
      "metadata": {
        "id": "8FrAcqHdg1if"
      },
      "outputs": [],
      "source": [
        "from google.colab import userdata"
      ]
    },
    {
      "cell_type": "code",
      "source": [
        "openai.api_key = userdata.get('openai_key')"
      ],
      "metadata": {
        "id": "bpVeBXt5hUQN"
      },
      "execution_count": null,
      "outputs": []
    },
    {
      "cell_type": "code",
      "source": [
        "#creating a chat bot class which will have the code for passing information to chat gpt and\n",
        "class ChatBot:\n",
        "    def __init__(self, system=\"\"):\n",
        "        self.system = system\n",
        "        self.messages = []\n",
        "        if self.system:\n",
        "            #if system message is not empty then, then we add it to the list of messages\n",
        "            self.messages.append({\"role\": \"system\", \"content\": system})\n",
        "\n",
        "    def __call__(self, message):\n",
        "        #add the user message to the list of messages\n",
        "        self.messages.append({\"role\": \"user\", \"content\": message})\n",
        "        result = self.execute()\n",
        "        #add the assistant message to the list of messages, in a conversation,\n",
        "        # the way a conversation works after you get a response and you want to ask gpt about some thing you'll have to repass the entire conversation till that point again\n",
        "        self.messages.append({\"role\": \"assistant\", \"content\": result})\n",
        "        return result\n",
        "\n",
        "    def execute(self):\n",
        "        #execute the chat gpt api and return the response\n",
        "        client = openai.OpenAI(api_key=userdata.get('openai_key'))\n",
        "        completion = client.chat.completions.create(model = 'gpt-3.5-turbo',messages = self.messages)\n",
        "        return completion.choices[0].message.content"
      ],
      "metadata": {
        "id": "FcmNxTP9hgUs"
      },
      "execution_count": null,
      "outputs": []
    },
    {
      "cell_type": "code",
      "source": [
        "#promp which descirbes how we want our agent to behave, in the prompt we mention the list og tasks we would ask it perform\n",
        "# how the agent shoule perform those task, for each task we specify an action a python function it can run\n",
        "#based on the prompt we ask it to identify the action it thinks it needs to perform and as\n",
        "prompt = \"\"\"\n",
        "You run in a loop of Thought, Action, PAUSE, Observation.\n",
        "At the end of the loop you output an Answer\n",
        "Use Thought to describe your thoughts about the question you have been asked.\n",
        "Use Action to run one of the actions available to you - then return PAUSE.\n",
        "Observation will be the result of running those actions.\n",
        "\n",
        "Your available actions are:\n",
        "\n",
        "calculate:\n",
        "e.g. calculate: 4 * 7 / 3\n",
        "Runs a calculation and returns the number - uses Python so be sure to use floating point syntax if necessary\n",
        "\n",
        "wikipedia:\n",
        "e.g. wikipedia: Django\n",
        "Returns a summary from searching Wikipedia\n",
        "\n",
        "Example session:\n",
        "\n",
        "Question: What is the capital of India?\n",
        "Thought: I should look up India on Wikipedia\n",
        "Action: wikipedia: India\n",
        "PAUSE\n",
        "\n",
        "You will be called again with this:\n",
        "\n",
        "Observation: India is a country. The capital is Delhi.\n",
        "\n",
        "You then output:\n",
        "\n",
        "Answer: The capital of India is Paris\n",
        "\"\"\".strip()"
      ],
      "metadata": {
        "id": "xaYGMxvRhzZu"
      },
      "execution_count": null,
      "outputs": []
    },
    {
      "cell_type": "code",
      "source": [
        "#this is the regular expression which we can use to extact the action component fro m out agent's response\n",
        "action_re = re.compile('^Action: (\\w+): (.*)$')\n",
        "\n",
        "def query(question, max_turns=5):\n",
        "    # this the main function which we use to invove out chatbot agent\n",
        "    i = 0 # used to keep track of number of turns\n",
        "    bot = ChatBot(prompt)\n",
        "    next_prompt = question\n",
        "    while i < max_turns:\n",
        "        i += 1\n",
        "        result = bot(next_prompt)# adding prompt to our chat\n",
        "        print(result)\n",
        "        # Extract the action and action input from the result\n",
        "        actions = [action_re.match(a) for a in result.split('\\n') if action_re.match(a)]\n",
        "        if actions:\n",
        "            # There is an action to run\n",
        "            action, action_input = actions[0].groups()\n",
        "            if action not in known_actions:\n",
        "                raise Exception(\"Unknown action: {}: {}\".format(action, action_input))\n",
        "            # Based on the action identified we will be running the requied function with inpit\n",
        "            print(\" -- running {} {}\".format(action, action_input))\n",
        "            observation = known_actions[action](action_input)\n",
        "            #observation is passed\n",
        "            print(\"Observation:\", observation)\n",
        "            next_prompt = \"Observation: {}\".format(observation)\n",
        "            #if answer if found then in the next iteration there wount be ay actions identifed and we will exit\n",
        "        else:\n",
        "            return\n",
        "\n",
        "\n",
        "def wikipedia(q):\n",
        "    #out agent will use this function to get the content of a wikipedia article\n",
        "    # Get the first result from Wikipedia\n",
        "    return httpx.get(\"https://en.wikipedia.org/w/api.php\", params={\n",
        "        \"action\": \"query\",\n",
        "        \"list\": \"search\",\n",
        "        \"srsearch\": q,\n",
        "        \"format\": \"json\"\n",
        "    }).json()[\"query\"][\"search\"][0][\"snippet\"]\n",
        "\n",
        "\n",
        "def calculate(what):\n",
        "    #out agent will use this function to calculate something\n",
        "    return eval(what)\n",
        "\n",
        "known_actions = {\n",
        "    \"wikipedia\": wikipedia,\n",
        "    \"calculate\": calculate\n",
        "}"
      ],
      "metadata": {
        "id": "-9Ry_83aiOEm"
      },
      "execution_count": null,
      "outputs": []
    },
    {
      "cell_type": "code",
      "source": [
        "query(\"Who discovered neutrinos\")"
      ],
      "metadata": {
        "colab": {
          "base_uri": "https://localhost:8080/"
        },
        "id": "Py_TuN6XiZsJ",
        "outputId": "0e6e8efc-ea14-439c-fcaf-7bc9d5cae5f9"
      },
      "execution_count": null,
      "outputs": [
        {
          "output_type": "stream",
          "name": "stdout",
          "text": [
            "Thought: I should look up information about neutrinos on Wikipedia.\n",
            "Action: wikipedia: Neutrinos\n",
            "PAUSE\n",
            " -- running wikipedia Neutrinos\n",
            "Observation: small mass of the <span class=\"searchmatch\">neutrino</span>, and <span class=\"searchmatch\">neutrinos</span> do not participate in the electromagnetic interaction or the strong interaction. Thus, <span class=\"searchmatch\">neutrinos</span> typically pass\n",
            "Answer: Neutrinos were first discovered by Clyde Cowan and Frederick Reines in 1956.\n"
          ]
        }
      ]
    },
    {
      "cell_type": "code",
      "source": [
        "query(\"What was the first person to solve the cubic equation?\")"
      ],
      "metadata": {
        "colab": {
          "base_uri": "https://localhost:8080/"
        },
        "id": "97iM5cg8idt7",
        "outputId": "4e34af5a-fb20-48fc-b487-0d2e90c81b50"
      },
      "execution_count": null,
      "outputs": [
        {
          "output_type": "stream",
          "name": "stdout",
          "text": [
            "Thought: I believe I should use Wikipedia to find information on the first person to solve the cubic equation.\n",
            "Action: wikipedia: Cubic equation\n",
            "PAUSE\n",
            " -- running wikipedia Cubic equation\n",
            "Observation: In algebra, a <span class=\"searchmatch\">cubic</span> <span class=\"searchmatch\">equation</span> in one variable is an <span class=\"searchmatch\">equation</span> of the form a x 3 + b x 2 + c x + d = 0 {\\displaystyle ax^{3}+bx^{2}+cx+d=0} in which a is\n",
            "Thought: I need to refine my Wikipedia search to find the specific information about the first person to solve the cubic equation.\n",
            "Action: wikipedia: Solution of the cubic equation\n",
            "PAUSE\n",
            " -- running wikipedia Solution of the cubic equation\n",
            "Observation: nonzero. The <span class=\"searchmatch\">solutions</span> <span class=\"searchmatch\">of</span> this <span class=\"searchmatch\">equation</span> are called roots <span class=\"searchmatch\">of</span> <span class=\"searchmatch\">the</span> <span class=\"searchmatch\">cubic</span> function defined by <span class=\"searchmatch\">the</span> left-hand side <span class=\"searchmatch\">of</span> <span class=\"searchmatch\">the</span> <span class=\"searchmatch\">equation</span>. If all <span class=\"searchmatch\">of</span> <span class=\"searchmatch\">the</span> coefficients\n",
            "Thought: I still haven't found the specific information about the first person to solve the cubic equation. I'll try another approach by searching for the history of cubic equations.\n",
            "Action: wikipedia: History of cubic equations\n",
            "PAUSE\n",
            " -- running wikipedia History of cubic equations\n",
            "Observation: Al-Muʿādalāt (Treatise on <span class=\"searchmatch\">Equations</span>), which dealt with eight types <span class=\"searchmatch\">of</span> <span class=\"searchmatch\">cubic</span> <span class=\"searchmatch\">equations</span> with positive solutions and five types <span class=\"searchmatch\">of</span> <span class=\"searchmatch\">cubic</span> <span class=\"searchmatch\">equations</span> which may not have\n",
            "Thought: The history of cubic equations has led me to Al-Mu'ādalāt, a treatise that dealt with various types of cubic equations. I will need to investigate further to determine if this work contains the first person who solved the cubic equation.\n",
            "Action: wikipedia: Al-Mu'ādalāt\n",
            "PAUSE\n",
            " -- running wikipedia Al-Mu'ādalāt\n",
            "Observation: geometry and algebra. In the 12th century, Sharaf <span class=\"searchmatch\">al</span>-Dīn <span class=\"searchmatch\">al</span>-Tūsī (1135–1213) wrote the <span class=\"searchmatch\">Al</span>-<span class=\"searchmatch\">Mu'adalat</span> (Treatise on Equations), which dealt with eight types\n",
            "Answer: Sharaf al-Dīn al-Tūsī, who lived from 1135 to 1213, was the first person known to have solved cubic equations. He wrote the Al-Mu'adalat (Treatise on Equations), which addressed various types of cubic equations.\n"
          ]
        }
      ]
    },
    {
      "cell_type": "code",
      "source": [
        "query('What is 5 +95?')"
      ],
      "metadata": {
        "colab": {
          "base_uri": "https://localhost:8080/"
        },
        "id": "bkaQUes4lmII",
        "outputId": "8d2097e2-21ae-4821-b6df-df6e3a1d2701"
      },
      "execution_count": null,
      "outputs": [
        {
          "output_type": "stream",
          "name": "stdout",
          "text": [
            "Thought: I should calculate the sum of 5 and 95.\n",
            "\n",
            "Action: calculate: 5 + 95\n",
            "PAUSE\n",
            " -- running calculate 5 + 95\n",
            "Observation: 100\n",
            "Answer: The sum of 5 and 95 is 100.\n"
          ]
        }
      ]
    },
    {
      "cell_type": "code",
      "source": [],
      "metadata": {
        "id": "QKt41r8Bl4TU"
      },
      "execution_count": null,
      "outputs": []
    }
  ]
}